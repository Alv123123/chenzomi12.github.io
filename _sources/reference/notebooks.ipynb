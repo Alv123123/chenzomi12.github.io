{
 "cells": [
  {
   "cell_type": "markdown",
   "id": "d92e4acc",
   "metadata": {},
   "source": [
    "# Jupyter notebooks\n",
    "\n",
    "This is a page to demonstrate the look and feel of Jupyter Notebook elements.\n",
    "\n",
    "## Hiding elements\n",
    "\n",
    "### Hide cells\n",
    "\n",
    "The following cell is hidden.\n",
    "It also has a `thebe-init` tag which means it will be executed when you initialize Thebe."
   ]
  },
  {
   "cell_type": "code",
   "execution_count": 1,
   "id": "5d31c05f",
   "metadata": {
    "tags": [
     "hide-cell",
     "thebe-init"
    ]
   },
   "outputs": [
    {
     "ename": "ModuleNotFoundError",
     "evalue": "No module named 'matplotlib'",
     "output_type": "error",
     "traceback": [
      "\u001b[0;31m---------------------------------------------------------------------------\u001b[0m",
      "\u001b[0;31mModuleNotFoundError\u001b[0m                       Traceback (most recent call last)",
      "Cell \u001b[0;32mIn[1], line 3\u001b[0m\n\u001b[1;32m      1\u001b[0m \u001b[38;5;66;03m# Generate some code that we'll use later on in the page\u001b[39;00m\n\u001b[1;32m      2\u001b[0m \u001b[38;5;28;01mimport\u001b[39;00m \u001b[38;5;21;01mnumpy\u001b[39;00m \u001b[38;5;28;01mas\u001b[39;00m \u001b[38;5;21;01mnp\u001b[39;00m\n\u001b[0;32m----> 3\u001b[0m \u001b[38;5;28;01mimport\u001b[39;00m \u001b[38;5;21;01mmatplotlib\u001b[39;00m\u001b[38;5;21;01m.\u001b[39;00m\u001b[38;5;21;01mpyplot\u001b[39;00m \u001b[38;5;28;01mas\u001b[39;00m \u001b[38;5;21;01mplt\u001b[39;00m\n",
      "\u001b[0;31mModuleNotFoundError\u001b[0m: No module named 'matplotlib'"
     ]
    }
   ],
   "source": [
    "# Generate some code that we'll use later on in the page\n",
    "import numpy as np\n",
    "import matplotlib.pyplot as plt"
   ]
  },
  {
   "cell_type": "markdown",
   "id": "b4ffc0ff",
   "metadata": {},
   "source": [
    "### Hide inputs"
   ]
  },
  {
   "cell_type": "code",
   "execution_count": null,
   "id": "d41b4a02",
   "metadata": {
    "tags": [
     "hide-input"
    ]
   },
   "outputs": [],
   "source": [
    "# Hide input\n",
    "square = np.random.randn(100, 100)\n",
    "wide = np.random.randn(100, 1000)\n",
    "\n",
    "fig, ax = plt.subplots()\n",
    "ax.imshow(square)\n",
    "\n",
    "fig, ax = plt.subplots()\n",
    "ax.imshow(wide)"
   ]
  },
  {
   "cell_type": "markdown",
   "id": "ccbb7aba",
   "metadata": {},
   "source": [
    "### Hide outputs"
   ]
  },
  {
   "cell_type": "code",
   "execution_count": null,
   "id": "c0b5d2b6",
   "metadata": {
    "tags": [
     "hide-output"
    ]
   },
   "outputs": [],
   "source": [
    "# Hide output\n",
    "square = np.random.randn(100, 100)\n",
    "wide = np.random.randn(100, 1000)\n",
    "\n",
    "fig, ax = plt.subplots()\n",
    "ax.imshow(square)\n",
    "\n",
    "fig, ax = plt.subplots()\n",
    "ax.imshow(wide)"
   ]
  },
  {
   "cell_type": "markdown",
   "id": "b47c317c",
   "metadata": {},
   "source": [
    "### Hide markdown\n",
    "\n",
    "````{toggle}\n",
    "```{note}\n",
    "This is a hidden markdown cell\n",
    "\n",
    "It should be hidden!\n",
    "```\n",
    "````\n",
    "\n",
    "```{admonition} And here's a toggleable note\n",
    ":class: dropdown\n",
    "With a body!\n",
    "```"
   ]
  },
  {
   "cell_type": "markdown",
   "id": "22392cfd",
   "metadata": {},
   "source": [
    "### Hide both inputs and outputs"
   ]
  },
  {
   "cell_type": "code",
   "execution_count": null,
   "id": "88726bfd",
   "metadata": {
    "tags": [
     "hide-output",
     "hide-input"
    ]
   },
   "outputs": [],
   "source": [
    "square = np.random.randn(100, 100)\n",
    "wide = np.random.randn(100, 1000)\n",
    "\n",
    "fig, ax = plt.subplots()\n",
    "ax.imshow(square)\n",
    "\n",
    "fig, ax = plt.subplots()\n",
    "ax.imshow(wide)"
   ]
  },
  {
   "cell_type": "markdown",
   "id": "660e09b4",
   "metadata": {},
   "source": [
    "### Hide the whole cell"
   ]
  },
  {
   "cell_type": "code",
   "execution_count": null,
   "id": "8443d35c",
   "metadata": {
    "tags": [
     "hide-cell"
    ]
   },
   "outputs": [],
   "source": [
    "square = np.random.randn(100, 100)\n",
    "wide = np.random.randn(100, 1000)\n",
    "\n",
    "fig, ax = plt.subplots()\n",
    "ax.imshow(square)\n",
    "\n",
    "fig, ax = plt.subplots()\n",
    "ax.imshow(wide)"
   ]
  },
  {
   "cell_type": "markdown",
   "id": "2284617f",
   "metadata": {},
   "source": [
    "## Enriched outputs\n",
    "\n",
    "### Math"
   ]
  },
  {
   "cell_type": "code",
   "execution_count": null,
   "id": "d55981f3",
   "metadata": {},
   "outputs": [],
   "source": [
    "# You can also include enriched outputs like Math\n",
    "from IPython.display import Math\n",
    "Math(\"\\sum_{i=0}^n i^2 = \\frac{(n^2+n)(2n+1)}{6}\")"
   ]
  },
  {
   "cell_type": "markdown",
   "id": "a843b559",
   "metadata": {},
   "source": [
    "### Pandas DataFrames"
   ]
  },
  {
   "cell_type": "code",
   "execution_count": null,
   "id": "3c547612",
   "metadata": {},
   "outputs": [],
   "source": [
    "import pandas as pd\n",
    "df = pd.DataFrame([['hi', 'there'], ['this', 'is'], ['a', 'DataFrame']], columns=['Word A', 'Word B'])\n",
    "df"
   ]
  },
  {
   "cell_type": "markdown",
   "id": "54885beb",
   "metadata": {},
   "source": [
    "Styled DataFrames (see [the Pandas Styling docs](https://pandas.pydata.org/pandas-docs/stable/user_guide/style.html))."
   ]
  },
  {
   "cell_type": "code",
   "execution_count": null,
   "id": "3737575d",
   "metadata": {
    "tags": [
     "hide-input"
    ]
   },
   "outputs": [],
   "source": [
    "import pandas as pd\n",
    "\n",
    "np.random.seed(24)\n",
    "df = pd.DataFrame({'A': np.linspace(1, 10, 10)})\n",
    "df = pd.concat([df, pd.DataFrame(np.random.randn(10, 4), columns=list('BCDE'))],\n",
    "               axis=1)\n",
    "df.iloc[3, 3] = np.nan\n",
    "df.iloc[0, 2] = np.nan\n",
    "\n",
    "def color_negative_red(val):\n",
    "    \"\"\"\n",
    "    Takes a scalar and returns a string with\n",
    "    the css property `'color: red'` for negative\n",
    "    strings, black otherwise.\n",
    "    \"\"\"\n",
    "    color = 'red' if val < 0 else 'black'\n",
    "    return 'color: %s' % color\n",
    "\n",
    "def highlight_max(s):\n",
    "    '''\n",
    "    highlight the maximum in a Series yellow.\n",
    "    '''\n",
    "    is_max = s == s.max()\n",
    "    return ['background-color: yellow' if v else '' for v in is_max]\n",
    "\n",
    "df.style.\\\n",
    "    applymap(color_negative_red).\\\n",
    "    apply(highlight_max).\\\n",
    "    set_table_attributes('style=\"font-size: 10px\"')"
   ]
  },
  {
   "cell_type": "markdown",
   "id": "c4831466",
   "metadata": {},
   "source": [
    "## Interactive outputs\n",
    "\n",
    "### Folium"
   ]
  },
  {
   "cell_type": "code",
   "execution_count": null,
   "id": "6c032abb",
   "metadata": {},
   "outputs": [],
   "source": [
    "import folium"
   ]
  },
  {
   "cell_type": "code",
   "execution_count": null,
   "id": "e6fbab9e",
   "metadata": {},
   "outputs": [],
   "source": [
    "m = folium.Map(\n",
    "    location=[45.372, -121.6972],\n",
    "    zoom_start=12,\n",
    "    tiles='Stamen Terrain',\n",
    "    attr=\"Placeholder attr\"\n",
    ")\n",
    "\n",
    "folium.Marker(\n",
    "    location=[45.3288, -121.6625],\n",
    "    popup='Mt. Hood Meadows',\n",
    "    icon=folium.Icon(icon='cloud'),\n",
    "    attr=\"Placeholder attr\"\n",
    ").add_to(m)\n",
    "\n",
    "folium.Marker(\n",
    "    location=[45.3311, -121.7113],\n",
    "    popup='Timberline Lodge',\n",
    "    icon=folium.Icon(color='green'),\n",
    "    attr=\"Placeholder attr\"\n",
    ").add_to(m)\n",
    "\n",
    "folium.Marker(\n",
    "    location=[45.3300, -121.6823],\n",
    "    popup='Some Other Location',\n",
    "    icon=folium.Icon(color='red', icon='info-sign'),\n",
    "    attr=\"Placeholder attr\"\n",
    ").add_to(m)\n",
    "\n",
    "\n",
    "m"
   ]
  },
  {
   "cell_type": "markdown",
   "id": "6d169ad1",
   "metadata": {},
   "source": [
    "## Stdout"
   ]
  },
  {
   "cell_type": "code",
   "execution_count": null,
   "id": "c0b2d29d",
   "metadata": {},
   "outputs": [],
   "source": [
    "# The ! causes this to run as a shell command\n",
    "!jupyter -h"
   ]
  },
  {
   "cell_type": "markdown",
   "id": "623e924b",
   "metadata": {},
   "source": [
    "## Formatting code cells\n",
    "\n",
    "### Scrolling cell outputs"
   ]
  },
  {
   "cell_type": "code",
   "execution_count": null,
   "id": "ac6e5089",
   "metadata": {
    "tags": [
     "output_scroll"
    ]
   },
   "outputs": [],
   "source": [
    "for ii in range(40):\n",
    "    print(f\"this is output line {ii}\")"
   ]
  },
  {
   "cell_type": "markdown",
   "id": "e62abaa1",
   "metadata": {},
   "source": [
    "### Scrolling cell inputs"
   ]
  },
  {
   "cell_type": "code",
   "execution_count": null,
   "id": "f6978ab2",
   "metadata": {
    "tags": [
     "scroll-input"
    ]
   },
   "outputs": [],
   "source": [
    "b = \"This line has no meaning\"\n",
    "b = \"This line has no meaning\"\n",
    "b = \"This line has no meaning\"\n",
    "b = \"This line has no meaning\"\n",
    "b = \"This line has no meaning\"\n",
    "b = \"This line has no meaning\"\n",
    "b = \"This line has no meaning\"\n",
    "b = \"This line has no meaning\"\n",
    "b = \"This line has no meaning\"\n",
    "b = \"This line has no meaning\"\n",
    "b = \"This line has no meaning\"\n",
    "b = \"This line has no meaning\"\n",
    "b = \"This line has no meaning\"\n",
    "b = \"This line has no meaning\"\n",
    "b = \"This line has no meaning\"\n",
    "b = \"This line has no meaning\"\n",
    "b = \"This line has no meaning\"\n",
    "b = \"This line has no meaning\"\n",
    "b = \"This line has no meaning\"\n",
    "b = \"This line has no meaning\"\n",
    "b = \"This line has no meaning\"\n",
    "print(b)"
   ]
  }
 ],
 "metadata": {
  "jupytext": {
   "formats": "ipynb,md:myst",
   "text_representation": {
    "extension": ".md",
    "format_name": "myst",
    "format_version": 0.12,
    "jupytext_version": "1.8.2"
   }
  },
  "kernelspec": {
   "display_name": "Python 3",
   "language": "python",
   "name": "python3"
  },
  "language_info": {
   "codemirror_mode": {
    "name": "ipython",
    "version": 3
   },
   "file_extension": ".py",
   "mimetype": "text/x-python",
   "name": "python",
   "nbconvert_exporter": "python",
   "pygments_lexer": "ipython3",
   "version": "3.10.14"
  },
  "source_map": [
   13,
   26,
   32,
   36,
   48,
   52,
   64,
   81,
   85,
   96,
   100,
   111,
   117,
   121,
   126,
   131,
   135,
   167,
   173,
   177,
   208,
   212,
   215,
   221,
   225,
   229
  ]
 },
 "nbformat": 4,
 "nbformat_minor": 5
}